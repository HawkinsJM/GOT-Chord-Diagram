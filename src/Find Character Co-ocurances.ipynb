{
 "cells": [
  {
   "cell_type": "code",
   "execution_count": 1,
   "metadata": {
    "collapsed": false
   },
   "outputs": [],
   "source": [
    "import pandas as pd\n",
    "import simplejson"
   ]
  },
  {
   "cell_type": "code",
   "execution_count": 2,
   "metadata": {
    "collapsed": true
   },
   "outputs": [],
   "source": [
    "base_path = \"../data/\""
   ]
  },
  {
   "cell_type": "code",
   "execution_count": 3,
   "metadata": {
    "collapsed": true
   },
   "outputs": [],
   "source": [
    "book_file = \"book-A-song-of-Ice-and-Fire.csv\""
   ]
  },
  {
   "cell_type": "code",
   "execution_count": 4,
   "metadata": {
    "collapsed": true
   },
   "outputs": [],
   "source": [
    "tv_file = \"tv-Game-of-Thrones.csv\""
   ]
  },
  {
   "cell_type": "code",
   "execution_count": 5,
   "metadata": {
    "collapsed": false
   },
   "outputs": [],
   "source": [
    "bookdf = pd.read_csv(base_path + book_file)\n",
    "bookdf[\"category\"] = \"book\""
   ]
  },
  {
   "cell_type": "code",
   "execution_count": 6,
   "metadata": {
    "collapsed": false
   },
   "outputs": [],
   "source": [
    "tvdf = pd.read_csv(base_path + tv_file)\n",
    "tvdf['category'] = \"tv\""
   ]
  },
  {
   "cell_type": "code",
   "execution_count": 7,
   "metadata": {
    "collapsed": false
   },
   "outputs": [],
   "source": [
    "fb  = open(\"../data/book_characters.json\", \"r\")\n",
    "book_char_list = simplejson.loads(fb.read())"
   ]
  },
  {
   "cell_type": "code",
   "execution_count": 8,
   "metadata": {
    "collapsed": false
   },
   "outputs": [],
   "source": [
    "ft  = open(\"../data/tv_characters.json\", \"r\")\n",
    "tv_char_list = simplejson.loads(ft.read())"
   ]
  },
  {
   "cell_type": "code",
   "execution_count": 9,
   "metadata": {
    "collapsed": false
   },
   "outputs": [],
   "source": [
    "#One character as listed under two names. \n",
    "#Dropping this column because it had fewer enteires, all of which were duplicate to the surviving columnn. \n",
    "bookdf = bookdf.drop('Aegon T./Egg', 1)\n",
    "book_char_list.remove('Aegon T./Egg')"
   ]
  },
  {
   "cell_type": "code",
   "execution_count": 10,
   "metadata": {
    "collapsed": false
   },
   "outputs": [
    {
     "name": "stdout",
     "output_type": "stream",
     "text": [
      "Book: Aemon T./The Dragonknight, TV: Aemon T. changed in tv\n",
      "Book: Brynden T., TV: Brynden T./Brynden the Blackfish changed in book\n",
      "Book: Daenerys T./Dany, TV: Daenerys T. changed in tv\n",
      "Book: Eddard S./Ned, TV: Eddard S. changed in tv\n",
      "Book: Gendry, TV: Gendry W. changed in book\n",
      "Book: Myranda R., TV: Myranda changed in tv\n",
      "Book: Petyr B./Littlefinger, TV: Petyr B. changed in tv\n",
      "Book: Rhaenys T./Queen Who Never Was, TV: Rhaenys T. changed in tv\n",
      "Book: Shaera T., TV: Shae changed in tv\n",
      "Book: Catelyn T., TV: Catelyn S. changed in book\n",
      "Book: Brienne T., TV: Brienne of Tarth changed in book\n"
     ]
    }
   ],
   "source": [
    "def rename_longer(cb, ct):\n",
    "    global tv_char_list\n",
    "    global book_char_list\n",
    "    if len(cb) > len(ct) and \"Nymeria\" not in cb:\n",
    "        tvdf.rename(columns={ct: cb}, inplace=True)\n",
    "        tv_char_list = [cb if x==ct else x for x in tv_char_list]\n",
    "        print \"Book: {}, TV: {} changed in tv\".format(cb, ct)\n",
    "    elif \"Nymeria\" not in cb:\n",
    "        bookdf.rename(columns={cb: ct}, inplace=True)\n",
    "        book_char_list = [ct if x==cb else x for x in book_char_list]\n",
    "        print \"Book: {}, TV: {} changed in book\".format(cb, ct)\n",
    "        \n",
    "for cb in book_char_list:\n",
    "    if cb not in tv_char_list:\n",
    "        for ct in tv_char_list:\n",
    "                if ct.split(\"/\")[0] == cb:\n",
    "                    rename_longer(cb, ct)\n",
    "                elif cb.split(\"/\")[0] == ct:\n",
    "                    rename_longer(cb, ct)\n",
    "                elif cb in ct:\n",
    "                    rename_longer(cb, ct)\n",
    "                elif ct in cb:\n",
    "                    rename_longer(cb, ct)\n",
    "\n",
    "rename_longer(\"Catelyn T.\", \"Catelyn S.\")\n",
    "rename_longer(\"Brienne T.\", \"Brienne of Tarth\")"
   ]
  },
  {
   "cell_type": "code",
   "execution_count": 11,
   "metadata": {
    "collapsed": false
   },
   "outputs": [],
   "source": [
    "for column in list(bookdf):\n",
    "    if list(bookdf).count(column) >1:\n",
    "        print column, bookdf[column].sum()"
   ]
  },
  {
   "cell_type": "code",
   "execution_count": 18,
   "metadata": {
    "collapsed": false
   },
   "outputs": [
    {
     "name": "stdout",
     "output_type": "stream",
     "text": [
      "Direwolves : tv-38\n",
      "Dragons : tv-12\n",
      "G. M. Pycelle : tv-3\n",
      "Grey Worm : tv-10\n",
      "Karl T. : tv-1\n",
      "Khal Drogo : tv-91\n",
      "Locke : tv-2\n",
      "Ludd W. : tv-1\n",
      "M. Luwin : tv-5\n",
      "Rodrick F. : tv-1\n",
      "Royland D. : tv-1\n",
      "Ryon F. : tv-1\n",
      "S. Mordane : tv-1\n",
      "Talia F. : tv-1\n",
      "Talisa M. : tv-21\n",
      "Viserion T. : tv-1\n",
      "Yara G. : tv-28\n",
      "the three eyed raven : tv-1\n"
     ]
    }
   ],
   "source": [
    "#merge tables using TV as the standard since it has less characters and only characters appearing in both will be popular enough to appear on the chart. \n",
    "#check if headers only in tv are important people\n",
    "tv_not_book = [x for x in list(tvdf) if x not in list(bookdf)]\n",
    "for i in tv_not_book:\n",
    "    print \"{} : tv-{}\".format(i, tvdf[i].sum())"
   ]
  },
  {
   "cell_type": "code",
   "execution_count": null,
   "metadata": {
    "collapsed": true
   },
   "outputs": [],
   "source": [
    "#innerjoing the tables. Will result in droping above characters from tv set. "
   ]
  },
  {
   "cell_type": "code",
   "execution_count": 27,
   "metadata": {
    "collapsed": true
   },
   "outputs": [],
   "source": [
    "gotdf = pd.concat([bookdf,tvdf], join=\"inner\")\n",
    "got_char_list = [x for x in tv_char_list if x in book_char_list]"
   ]
  },
  {
   "cell_type": "code",
   "execution_count": 26,
   "metadata": {
    "collapsed": false
   },
   "outputs": [
    {
     "name": "stdout",
     "output_type": "stream",
     "text": [
      "True\n",
      "True\n",
      "True\n",
      "True\n"
     ]
    }
   ],
   "source": [
    "#test and make sure things make sense\n",
    "key_char = [\"Jon S.\", \"Robb S.\", \"Sansa S.\", \"OC\"]\n",
    "for char in key_char:\n",
    "    print bookdf[char].sum() + tvdf[char].sum() == gotdf[char].sum()"
   ]
  },
  {
   "cell_type": "code",
   "execution_count": 29,
   "metadata": {
    "collapsed": false
   },
   "outputs": [],
   "source": [
    "output = []\n",
    "for character in got_char_list:\n",
    "    for name in got_char_list:\n",
    "        if character is not name:\n",
    "            stories = gotdf[(gotdf[character] == True) & (gotdf[name] == True)].count()['id']\n",
    "            m_ratings = float(gotdf[(gotdf[character] == True) & (gotdf[name] == True) & (gotdf['rated'] == \"M\")].count()['id'])\n",
    "            if stories > 0:\n",
    "                m_ratio = m_ratings/stories\n",
    "            else:\n",
    "                m_ratio = 0\n",
    "            output.append({\"Character_A\":character, \"Character_B\":name, \"count\":stories, \"rating\":m_ratio})"
   ]
  },
  {
   "cell_type": "code",
   "execution_count": 30,
   "metadata": {
    "collapsed": false
   },
   "outputs": [],
   "source": [
    "output.sort(key=lambda x:(x['count'], x['rating']))\n",
    "output.reverse()"
   ]
  },
  {
   "cell_type": "code",
   "execution_count": 32,
   "metadata": {
    "collapsed": false
   },
   "outputs": [
    {
     "name": "stdout",
     "output_type": "stream",
     "text": [
      "[{'count': 959, 'Character_B': 'Sandor C.', 'Character_A': 'Sansa S.', 'rating': 0.4744525547445255}, {'count': 959, 'Character_B': 'Sansa S.', 'Character_A': 'Sandor C.', 'rating': 0.4744525547445255}, {'count': 913, 'Character_B': 'Arya S.', 'Character_A': 'Gendry W.', 'rating': 0.3833515881708653}, {'count': 913, 'Character_B': 'Gendry W.', 'Character_A': 'Arya S.', 'rating': 0.3833515881708653}, {'count': 535, 'Character_B': 'Jon S.', 'Character_A': 'Sansa S.', 'rating': 0.36074766355140186}, {'count': 535, 'Character_B': 'Sansa S.', 'Character_A': 'Jon S.', 'rating': 0.36074766355140186}, {'count': 461, 'Character_B': 'Jon S.', 'Character_A': 'Robb S.', 'rating': 0.44685466377440347}, {'count': 461, 'Character_B': 'Robb S.', 'Character_A': 'Jon S.', 'rating': 0.44685466377440347}, {'count': 412, 'Character_B': 'Arya S.', 'Character_A': 'Jon S.', 'rating': 0.41504854368932037}, {'count': 412, 'Character_B': 'Jon S.', 'Character_A': 'Arya S.', 'rating': 0.41504854368932037}, {'count': 370, 'Character_B': 'Brienne of Tarth', 'Character_A': 'Jaime L.', 'rating': 0.22972972972972974}, {'count': 370, 'Character_B': 'Jaime L.', 'Character_A': 'Brienne of Tarth', 'rating': 0.22972972972972974}, {'count': 336, 'Character_B': 'Daenerys T./Dany', 'Character_A': 'Jon S.', 'rating': 0.39285714285714285}, {'count': 336, 'Character_B': 'Jon S.', 'Character_A': 'Daenerys T./Dany', 'rating': 0.39285714285714285}, {'count': 322, 'Character_B': 'Arya S.', 'Character_A': 'Sansa S.', 'rating': 0.34782608695652173}, {'count': 322, 'Character_B': 'Sansa S.', 'Character_A': 'Arya S.', 'rating': 0.34782608695652173}, {'count': 286, 'Character_B': 'Jon S.', 'Character_A': 'OC', 'rating': 0.527972027972028}, {'count': 286, 'Character_B': 'OC', 'Character_A': 'Jon S.', 'rating': 0.527972027972028}, {'count': 282, 'Character_B': 'OC', 'Character_A': 'Robb S.', 'rating': 0.549645390070922}, {'count': 282, 'Character_B': 'Robb S.', 'Character_A': 'OC', 'rating': 0.549645390070922}, {'count': 281, 'Character_B': 'Sansa S.', 'Character_A': 'Tyrion L.', 'rating': 0.39501779359430605}, {'count': 281, 'Character_B': 'Tyrion L.', 'Character_A': 'Sansa S.', 'rating': 0.39501779359430605}, {'count': 264, 'Character_B': 'Cersei L.', 'Character_A': 'Jaime L.', 'rating': 0.30303030303030304}, {'count': 264, 'Character_B': 'Jaime L.', 'Character_A': 'Cersei L.', 'rating': 0.30303030303030304}, {'count': 237, 'Character_B': 'Lyanna S.', 'Character_A': 'Rhaegar T.', 'rating': 0.3459915611814346}, {'count': 237, 'Character_B': 'Rhaegar T.', 'Character_A': 'Lyanna S.', 'rating': 0.3459915611814346}, {'count': 203, 'Character_B': 'Catelyn S.', 'Character_A': 'Eddard S./Ned', 'rating': 0.23645320197044334}, {'count': 203, 'Character_B': 'Eddard S./Ned', 'Character_A': 'Catelyn S.', 'rating': 0.23645320197044334}, {'count': 194, 'Character_B': 'Petyr B./Littlefinger', 'Character_A': 'Sansa S.', 'rating': 0.4690721649484536}, {'count': 194, 'Character_B': 'Sansa S.', 'Character_A': 'Petyr B./Littlefinger', 'rating': 0.4690721649484536}, {'count': 183, 'Character_B': 'Margaery T.', 'Character_A': 'Sansa S.', 'rating': 0.33879781420765026}, {'count': 183, 'Character_B': 'Sansa S.', 'Character_A': 'Margaery T.', 'rating': 0.33879781420765026}, {'count': 179, 'Character_B': 'Daenerys T./Dany', 'Character_A': 'Jorah M.', 'rating': 0.41899441340782123}, {'count': 179, 'Character_B': 'Jorah M.', 'Character_A': 'Daenerys T./Dany', 'rating': 0.41899441340782123}, {'count': 173, 'Character_B': 'Robb S.', 'Character_A': 'Theon G.', 'rating': 0.43352601156069365}, {'count': 173, 'Character_B': 'Theon G.', 'Character_A': 'Robb S.', 'rating': 0.43352601156069365}, {'count': 164, 'Character_B': 'Eddard S./Ned', 'Character_A': 'Jon S.', 'rating': 0.2865853658536585}, {'count': 164, 'Character_B': 'Jon S.', 'Character_A': 'Eddard S./Ned', 'rating': 0.2865853658536585}, {'count': 151, 'Character_B': 'Jaime L.', 'Character_A': 'OC', 'rating': 0.4900662251655629}, {'count': 151, 'Character_B': 'OC', 'Character_A': 'Jaime L.', 'rating': 0.4900662251655629}]\n"
     ]
    }
   ],
   "source": [
    "print output[:40]"
   ]
  },
  {
   "cell_type": "code",
   "execution_count": 35,
   "metadata": {
    "collapsed": false
   },
   "outputs": [],
   "source": [
    "ft  = open(\"../data/got_vis_data.json\", \"w\")\n",
    "ft.write(simplejson.dumps(output[:40]))"
   ]
  },
  {
   "cell_type": "code",
   "execution_count": 34,
   "metadata": {
    "collapsed": false
   },
   "outputs": [
    {
     "data": {
      "text/plain": [
       "'[{\"count\": 959, \"Character_B\": \"Sandor C.\", \"Character_A\": \"Sansa S.\", \"rating\": 0.4744525547445255}, {\"count\": 959, \"Character_B\": \"Sansa S.\", \"Character_A\": \"Sandor C.\", \"rating\": 0.4744525547445255}, {\"count\": 913, \"Character_B\": \"Arya S.\", \"Character_A\": \"Gendry W.\", \"rating\": 0.3833515881708653}, {\"count\": 913, \"Character_B\": \"Gendry W.\", \"Character_A\": \"Arya S.\", \"rating\": 0.3833515881708653}, {\"count\": 535, \"Character_B\": \"Jon S.\", \"Character_A\": \"Sansa S.\", \"rating\": 0.36074766355140186}, {\"count\": 535, \"Character_B\": \"Sansa S.\", \"Character_A\": \"Jon S.\", \"rating\": 0.36074766355140186}, {\"count\": 461, \"Character_B\": \"Jon S.\", \"Character_A\": \"Robb S.\", \"rating\": 0.44685466377440347}, {\"count\": 461, \"Character_B\": \"Robb S.\", \"Character_A\": \"Jon S.\", \"rating\": 0.44685466377440347}, {\"count\": 412, \"Character_B\": \"Arya S.\", \"Character_A\": \"Jon S.\", \"rating\": 0.41504854368932037}, {\"count\": 412, \"Character_B\": \"Jon S.\", \"Character_A\": \"Arya S.\", \"rating\": 0.41504854368932037}, {\"count\": 370, \"Character_B\": \"Brienne of Tarth\", \"Character_A\": \"Jaime L.\", \"rating\": 0.22972972972972974}, {\"count\": 370, \"Character_B\": \"Jaime L.\", \"Character_A\": \"Brienne of Tarth\", \"rating\": 0.22972972972972974}, {\"count\": 336, \"Character_B\": \"Daenerys T./Dany\", \"Character_A\": \"Jon S.\", \"rating\": 0.39285714285714285}, {\"count\": 336, \"Character_B\": \"Jon S.\", \"Character_A\": \"Daenerys T./Dany\", \"rating\": 0.39285714285714285}, {\"count\": 322, \"Character_B\": \"Arya S.\", \"Character_A\": \"Sansa S.\", \"rating\": 0.34782608695652173}, {\"count\": 322, \"Character_B\": \"Sansa S.\", \"Character_A\": \"Arya S.\", \"rating\": 0.34782608695652173}, {\"count\": 286, \"Character_B\": \"Jon S.\", \"Character_A\": \"OC\", \"rating\": 0.527972027972028}, {\"count\": 286, \"Character_B\": \"OC\", \"Character_A\": \"Jon S.\", \"rating\": 0.527972027972028}, {\"count\": 282, \"Character_B\": \"OC\", \"Character_A\": \"Robb S.\", \"rating\": 0.549645390070922}, {\"count\": 282, \"Character_B\": \"Robb S.\", \"Character_A\": \"OC\", \"rating\": 0.549645390070922}, {\"count\": 281, \"Character_B\": \"Sansa S.\", \"Character_A\": \"Tyrion L.\", \"rating\": 0.39501779359430605}, {\"count\": 281, \"Character_B\": \"Tyrion L.\", \"Character_A\": \"Sansa S.\", \"rating\": 0.39501779359430605}, {\"count\": 264, \"Character_B\": \"Cersei L.\", \"Character_A\": \"Jaime L.\", \"rating\": 0.30303030303030304}, {\"count\": 264, \"Character_B\": \"Jaime L.\", \"Character_A\": \"Cersei L.\", \"rating\": 0.30303030303030304}, {\"count\": 237, \"Character_B\": \"Lyanna S.\", \"Character_A\": \"Rhaegar T.\", \"rating\": 0.3459915611814346}, {\"count\": 237, \"Character_B\": \"Rhaegar T.\", \"Character_A\": \"Lyanna S.\", \"rating\": 0.3459915611814346}, {\"count\": 203, \"Character_B\": \"Catelyn S.\", \"Character_A\": \"Eddard S./Ned\", \"rating\": 0.23645320197044334}, {\"count\": 203, \"Character_B\": \"Eddard S./Ned\", \"Character_A\": \"Catelyn S.\", \"rating\": 0.23645320197044334}, {\"count\": 194, \"Character_B\": \"Petyr B./Littlefinger\", \"Character_A\": \"Sansa S.\", \"rating\": 0.4690721649484536}, {\"count\": 194, \"Character_B\": \"Sansa S.\", \"Character_A\": \"Petyr B./Littlefinger\", \"rating\": 0.4690721649484536}, {\"count\": 183, \"Character_B\": \"Margaery T.\", \"Character_A\": \"Sansa S.\", \"rating\": 0.33879781420765026}, {\"count\": 183, \"Character_B\": \"Sansa S.\", \"Character_A\": \"Margaery T.\", \"rating\": 0.33879781420765026}, {\"count\": 179, \"Character_B\": \"Daenerys T./Dany\", \"Character_A\": \"Jorah M.\", \"rating\": 0.41899441340782123}, {\"count\": 179, \"Character_B\": \"Jorah M.\", \"Character_A\": \"Daenerys T./Dany\", \"rating\": 0.41899441340782123}, {\"count\": 173, \"Character_B\": \"Robb S.\", \"Character_A\": \"Theon G.\", \"rating\": 0.43352601156069365}, {\"count\": 173, \"Character_B\": \"Theon G.\", \"Character_A\": \"Robb S.\", \"rating\": 0.43352601156069365}, {\"count\": 164, \"Character_B\": \"Eddard S./Ned\", \"Character_A\": \"Jon S.\", \"rating\": 0.2865853658536585}, {\"count\": 164, \"Character_B\": \"Jon S.\", \"Character_A\": \"Eddard S./Ned\", \"rating\": 0.2865853658536585}, {\"count\": 151, \"Character_B\": \"Jaime L.\", \"Character_A\": \"OC\", \"rating\": 0.4900662251655629}, {\"count\": 151, \"Character_B\": \"OC\", \"Character_A\": \"Jaime L.\", \"rating\": 0.4900662251655629}]'"
      ]
     },
     "execution_count": 34,
     "metadata": {},
     "output_type": "execute_result"
    }
   ],
   "source": [
    "simplejson.dumps(output[:40])"
   ]
  },
  {
   "cell_type": "code",
   "execution_count": null,
   "metadata": {
    "collapsed": true
   },
   "outputs": [],
   "source": []
  },
  {
   "cell_type": "code",
   "execution_count": null,
   "metadata": {
    "collapsed": true
   },
   "outputs": [],
   "source": []
  },
  {
   "cell_type": "code",
   "execution_count": null,
   "metadata": {
    "collapsed": false
   },
   "outputs": [],
   "source": [
    "#list of popular characters\n",
    "char_count = {}\n",
    "for character in got_char_list:\n",
    "    char_count[character] = gotdf[character].sum()\n",
    "sorted_list = reversed(sorted(char_count, key=char_count.get))\n",
    "for character in sorted_list:\n",
    "        print \"{} : {}\".format(character, char_count.get(character))"
   ]
  },
  {
   "cell_type": "code",
   "execution_count": null,
   "metadata": {
    "collapsed": true
   },
   "outputs": [],
   "source": []
  }
 ],
 "metadata": {
  "kernelspec": {
   "display_name": "Python2ds",
   "language": "python",
   "name": "python2ds"
  },
  "language_info": {
   "codemirror_mode": {
    "name": "ipython",
    "version": 2
   },
   "file_extension": ".py",
   "mimetype": "text/x-python",
   "name": "python",
   "nbconvert_exporter": "python",
   "pygments_lexer": "ipython2",
   "version": "2.7.12"
  }
 },
 "nbformat": 4,
 "nbformat_minor": 2
}
