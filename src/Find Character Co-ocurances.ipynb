{
 "cells": [
  {
   "cell_type": "code",
   "execution_count": 1,
   "metadata": {
    "collapsed": false
   },
   "outputs": [],
   "source": [
    "import pandas as pd\n",
    "import simplejson"
   ]
  },
  {
   "cell_type": "code",
   "execution_count": 2,
   "metadata": {
    "collapsed": true
   },
   "outputs": [],
   "source": [
    "# Set file paths\n",
    "base_path = \"../data/\"\n",
    "book_file = \"book-A-song-of-Ice-and-Fire.csv\"\n",
    "tv_file = \"tv-Game-of-Thrones.csv\""
   ]
  },
  {
   "cell_type": "code",
   "execution_count": 3,
   "metadata": {
    "collapsed": true
   },
   "outputs": [],
   "source": [
    "#import csv files to dataframes\n",
    "bookdf = pd.read_csv(base_path + book_file)\n",
    "bookdf[\"category\"] = \"book\"\n",
    "\n",
    "tvdf = pd.read_csv(base_path + tv_file)\n",
    "tvdf['category'] = \"tv\""
   ]
  },
  {
   "cell_type": "code",
   "execution_count": 4,
   "metadata": {
    "collapsed": false
   },
   "outputs": [],
   "source": [
    "#read in lists of character names to lists\n",
    "fb  = open(\"../data/book_characters.json\", \"r\")\n",
    "book_char_list = simplejson.loads(fb.read())\n",
    "\n",
    "ft  = open(\"../data/tv_characters.json\", \"r\")\n",
    "tv_char_list = simplejson.loads(ft.read())"
   ]
  },
  {
   "cell_type": "code",
   "execution_count": 5,
   "metadata": {
    "collapsed": false
   },
   "outputs": [],
   "source": [
    "# One character as listed under two names. \n",
    "# Dropping this column because it had fewer enteires,\n",
    "# all of which were redundant to the surviving columnn. \n",
    "bookdf = bookdf.drop('Aegon T./Egg', 1)\n",
    "book_char_list.remove('Aegon T./Egg')"
   ]
  },
  {
   "cell_type": "code",
   "execution_count": 6,
   "metadata": {
    "collapsed": false
   },
   "outputs": [
    {
     "name": "stdout",
     "output_type": "stream",
     "text": [
      "Book: Aemon T./The Dragonknight, TV: Aemon T. - Changed in TV.\n",
      "Book: Brynden T., TV: Brynden T./Brynden the Blackfish - Changed in book.\n",
      "Book: Daenerys T./Dany, TV: Daenerys T. - Changed in TV.\n",
      "Book: Eddard S./Ned, TV: Eddard S. - Changed in TV.\n",
      "Book: Gendry, TV: Gendry W. - Changed in book.\n",
      "Book: Myranda R., TV: Myranda - Changed in TV.\n",
      "Book: Petyr B./Littlefinger, TV: Petyr B. - Changed in TV.\n",
      "Book: Rhaenys T./Queen Who Never Was, TV: Rhaenys T. - Changed in TV.\n",
      "Book: Shaera T., TV: Shae - Changed in TV.\n",
      "Book: Catelyn T., TV: Catelyn S. - Changed in book.\n",
      "Book: Brienne T., TV: Brienne of Tarth - Changed in book.\n"
     ]
    }
   ],
   "source": [
    "#rename some popular characters to thiers name are consistent across book/tv datasets.\n",
    "\n",
    "def rename_longer(cb, ct):\n",
    "    global tv_char_list\n",
    "    global book_char_list\n",
    "    if len(cb) > len(ct) and \"Nymeria\" not in cb:\n",
    "        tvdf.rename(columns={ct: cb}, inplace=True)\n",
    "        tv_char_list = [cb if x==ct else x for x in tv_char_list]\n",
    "        print \"Book: {}, TV: {} - Changed in TV.\".format(cb, ct)\n",
    "    elif \"Nymeria\" not in cb:\n",
    "        bookdf.rename(columns={cb: ct}, inplace=True)\n",
    "        book_char_list = [ct if x==cb else x for x in book_char_list]\n",
    "        print \"Book: {}, TV: {} - Changed in book.\".format(cb, ct)\n",
    "        \n",
    "for cb in book_char_list:\n",
    "    if cb not in tv_char_list:\n",
    "        for ct in tv_char_list:\n",
    "                if ct.split(\"/\")[0] == cb:\n",
    "                    rename_longer(cb, ct)\n",
    "                elif cb.split(\"/\")[0] == ct:\n",
    "                    rename_longer(cb, ct)\n",
    "                elif cb in ct:\n",
    "                    rename_longer(cb, ct)\n",
    "                elif ct in cb:\n",
    "                    rename_longer(cb, ct)\n",
    "\n",
    "rename_longer(\"Catelyn T.\", \"Catelyn S.\")\n",
    "rename_longer(\"Brienne T.\", \"Brienne of Tarth\")"
   ]
  },
  {
   "cell_type": "code",
   "execution_count": 7,
   "metadata": {
    "collapsed": false
   },
   "outputs": [
    {
     "name": "stdout",
     "output_type": "stream",
     "text": [
      "Direwolves : tv-38\n",
      "Dragons : tv-12\n",
      "G. M. Pycelle : tv-3\n",
      "Grey Worm : tv-10\n",
      "Karl T. : tv-1\n",
      "Khal Drogo : tv-91\n",
      "Locke : tv-2\n",
      "Ludd W. : tv-1\n",
      "M. Luwin : tv-5\n",
      "Rodrick F. : tv-1\n",
      "Royland D. : tv-1\n",
      "Ryon F. : tv-1\n",
      "S. Mordane : tv-1\n",
      "Talia F. : tv-1\n",
      "Talisa M. : tv-21\n",
      "Viserion T. : tv-1\n",
      "Yara G. : tv-28\n",
      "the three eyed raven : tv-1\n"
     ]
    }
   ],
   "source": [
    "# Merge tables using TV as the standard since it has less characters and only characters appearing in both will be popular enough to appear on the chart. \n",
    "# Check if headers only appearing in tv are important people (they should not be)\n",
    "tv_not_book = [x for x in list(tvdf) if x not in list(bookdf)]\n",
    "for i in tv_not_book:\n",
    "    print \"{} : tv-{}\".format(i, tvdf[i].sum())"
   ]
  },
  {
   "cell_type": "code",
   "execution_count": 17,
   "metadata": {
    "collapsed": false
   },
   "outputs": [],
   "source": [
    "# Innerjoing the tables. Will result in droping above characters from tv dataset. \n",
    "gotdf = pd.concat([bookdf,tvdf], join=\"inner\")\n",
    "got_char_list = [x for x in tv_char_list if x in book_char_list]\n",
    "\n",
    "#test and make sure it merged right\n",
    "key_char = [\"Jon S.\", \"Robb S.\", \"Sansa S.\", \"OC\"]\n",
    "for char in key_char:\n",
    "    if not bookdf[char].sum() + tvdf[char].sum() == gotdf[char].sum():\n",
    "        print \"Join missing connections\" "
   ]
  },
  {
   "cell_type": "code",
   "execution_count": 11,
   "metadata": {
    "collapsed": false
   },
   "outputs": [],
   "source": [
    "#Create a list of dictionarys contaning links between characters and the rating for those links\n",
    "output = []\n",
    "for character in got_char_list:\n",
    "    for name in got_char_list:\n",
    "        if character is not name:\n",
    "            stories = gotdf[(gotdf[character] == True) & (gotdf[name] == True)].count()['id']\n",
    "            m_ratings = float(gotdf[(gotdf[character] == True) & (gotdf[name] == True) & (gotdf['rated'] == \"M\")].count()['id'])\n",
    "            if stories > 0:\n",
    "                m_ratio = m_ratings/stories\n",
    "            else:\n",
    "                m_ratio = 0\n",
    "            output.append({\"Character_A\":character, \"Character_B\":name, \"count\":stories, \"rating\":m_ratio})"
   ]
  },
  {
   "cell_type": "code",
   "execution_count": 12,
   "metadata": {
    "collapsed": false
   },
   "outputs": [],
   "source": [
    "#sort the output by number of stories in a link\n",
    "output.sort(key=lambda x:(x['count'], x['rating']))\n",
    "output.reverse()"
   ]
  },
  {
   "cell_type": "code",
   "execution_count": 16,
   "metadata": {
    "collapsed": false
   },
   "outputs": [],
   "source": [
    "#write output the top 40 links to file\n",
    "ft  = open(\"../data/got_vis_data.json\", \"w\")\n",
    "ft.write(simplejson.dumps(output[:40]))"
   ]
  },
  {
   "cell_type": "code",
   "execution_count": null,
   "metadata": {
    "collapsed": true
   },
   "outputs": [],
   "source": []
  },
  {
   "cell_type": "code",
   "execution_count": null,
   "metadata": {
    "collapsed": true
   },
   "outputs": [],
   "source": []
  }
 ],
 "metadata": {
  "kernelspec": {
   "display_name": "Python2ds",
   "language": "python",
   "name": "python2ds"
  },
  "language_info": {
   "codemirror_mode": {
    "name": "ipython",
    "version": 2
   },
   "file_extension": ".py",
   "mimetype": "text/x-python",
   "name": "python",
   "nbconvert_exporter": "python",
   "pygments_lexer": "ipython2",
   "version": "2.7.12"
  }
 },
 "nbformat": 4,
 "nbformat_minor": 2
}
